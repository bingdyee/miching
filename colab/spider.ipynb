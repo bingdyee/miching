{
 "cells": [
  {
   "cell_type": "code",
   "execution_count": 14,
   "metadata": {},
   "outputs": [],
   "source": [
    "import json\n",
    "import jieba\n",
    "import parsel\n",
    "import requests\n",
    "from itertools import islice\n",
    "from concurrent.futures import ThreadPoolExecutor"
   ]
  },
  {
   "cell_type": "markdown",
   "metadata": {},
   "source": [
    "## 爬虫：《周易》384爻今释"
   ]
  },
  {
   "cell_type": "code",
   "execution_count": 3,
   "metadata": {},
   "outputs": [],
   "source": [
    "url = 'http://www.360doc.com/content/18/0728/06/42860393_773759238.shtml'\n",
    "resp = requests.get(url)\n",
    "html = parsel.Selector(resp.text)\n",
    "plist = html.xpath(\"//td[@id='artContent']/div[2]/p[position() >= 5]/text()\").getall()\n",
    "with open('data/iching_384_changes.txt', 'w', encoding='utf8') as wf:\n",
    "    wf.writelines('\\n'.join(plist))"
   ]
  },
  {
   "cell_type": "code",
   "execution_count": 2,
   "metadata": {},
   "outputs": [],
   "source": [
    "severities = {\n",
    "    '1.1': '学业烦恼、对未来规划的迷茫', '1.2': '事业和工作烦恼', '1.3': '家庭问题和矛盾', '1.4': '物质滥用',\n",
    "    '1.5': '悲恸', '1.6': '失眠', '1.7': '压力', '1.8': '人际关系', '1.9': '情感关系问题', '1.10': '离婚',\n",
    "    '1.11': '分手', '1.12': '自我探索', '1.13': '低自尊', '1.14': '青春期问题', '1.15': '强迫症', \n",
    "    '1.16': '其它', '1.17': '男同性恋、女同性恋、双性恋与跨性别', '1.18': '性问题', '1.19': '亲子关系'\n",
    "}\n",
    "\n",
    "# 学业 事业 家庭 情感 健康 决策"
   ]
  },
  {
   "cell_type": "code",
   "execution_count": 3,
   "metadata": {},
   "outputs": [
    {
     "output_type": "stream",
     "name": "stdout",
     "text": [
      "低自尊 女 听过别人最多的议论就是干啥啥不行不长心眼没有脑子\n其它 女 ─=≡Σ((( つ•̀Ω•́)つ 有喜欢看动漫的吗？\n其它 女 有男的么，聊会天。。。。。。。。。。。。\n其它 男 精力不集中，，，，，，，，，，，，，，，\n其它 女 有人在吗，聊会。。。。。。。。。。。。。\n其它 男 刚刚学会互联网，希望眼睛还好，，，，，，\n其它 女 新冠肺炎病毒让人明白的人生真理。有图解释\n其它 男 既学习互联网又遵守规则又不落伍，，，，，\n其它 女 抑郁症单子大概解读，18岁，看不懂那个单子\n失眠 女 我整宿整宿睡不着经常头疼不知道自己怎么了\n其它 男 没有抑郁症的特征，就是想死不知道为什么。\n其它 男 走路的时候，陌生人摸头发给我看，感到恐惧\n情感关系问题 放不下女朋友的过去，又不想放手，我该怎么办\n情感关系问题 女 你别装本来在乎了，我眼里的难过快溢出来了\n情感关系问题 老婆与异性经常聊天是否正常？聊天语气很轻浮？\n其它 女 想做的做不成，现在做的没意思饭啊做什么呢\n其它 女 舍曲林突然加大了药量会死么，大概加了3，4倍\n情感关系问题 女 如果给不了一个人幸福和快乐是不是该放手了\n其它 女,现在还有没有没休息的老师？想简单做点咨询\n其它 睡觉时身体动不了意识很清醒，这是什么问题？\n青春期问题 女 我暗恋了一个男孩，可是不知道怎样接触他？\n情感关系问题 女,爱上一个不该爱的人，想忘又忘不了，怎么办\n压力 女 睡不着，老是想东想西，待在房间里有种恐惧\n其它 男 我需要著名的心里故事,可以提供的话,,我付费\n其它 女 闲着没事干，脑袋空空的，是病么，怎么改正\n其它 女 想问问这是有抑郁症了吗？如果有了该怎么办\n自我探索 女 从小到大脾气一直不好，如何让脾气好起来。\n其它 男 价值观的形成，，，，，，，，，，，，，，\n压力 女 如何治愈恐惧症和焦虑症？极度没有安全感！\n其它 男 郁闷，，，，，，，，，，，，，，，，，，\n其它 女 防备心很重，情感麻木的人。。。。。。。。\n家庭问题和矛盾 女 如果改变不了老公，是不是只能改变我自己呀\n其它 女 我能做的只剩下止损了！可怕。。。悔不当初\n其它 女 说来话长可以帮助我吗我真的有事想问问你们\n强迫症 女 女14强迫症和抑郁症有关系吗 强迫症怎么治疗\n压力 男 我感觉自己抑郁了，最近很烦，看什么都生气.\n人际关系 女 男朋友母亲老喜欢翻我包包，我该怎么给她说\n其它 男 有没有老师亲爱的老师帮我解决下性方面问题\n青春期问题 女 青少年…自卑心理。。。。。。。。。。。。\n其它 男 经常性冲动，控制不了自己的欲望该怎么办？\n其它 女 浑身乏力，心情不好，经常心烦。。。。。。\n其它 男 我好像活下来了，，，，，，，，，，，，，\n其它 女 心情忧郁 总在晚上崩溃 因为一点小事大发脾气\n压力 男 烦躁情绪心理压力大天天烦失眠恐惧身体伤呢\n其它 女 对这个App失望了极度差评再见哦不对永远不见\n人际关系 男 在乎别人看法，，，，，，，，，，，，，，\n其它 男 慕残，我该怎么办面对自己这种心里，改不掉\n其它 男 中度抑郁，情绪易激动 我该如何，调整自己？\n事业和工作烦恼 女 站12小时，一直走动脚好累呀，临时工真是难受\n家庭问题和矛盾 女 我爸不知道是又抽什么疯…………………………\n人际关系 女 邻居小弟弟最近很频繁来找我聊天，我感到很烦\n家庭问题和矛盾 家暴时， 隐藏好自己，别被抓到了，会很难受的。\n人际关系 男 男 亲戚买辆车，要不要心里纠结，怎么办呢？\n其它 男 人生过的像一坨Shit怎么办？怎样重新面对一切\n其它 女 感觉自己选择困难\t很纠结\t很容易被人左右思想\n情感关系问题 女 我毁了我最爱的人，有负罪感，想通过死来解决\n家庭问题和矛盾 男 家庭烦恼，给我带来好大的黑暗？谁能帮到我。\n其它 男 怎样克服恐惧症，求专家解答，我现在很困惑！\n其它 女,我不知道我现在是怎么了？整个人的状态很差，\n失眠 女 抑郁症，时好时坏，无心工作，睡不着，怎么办\n家庭问题和矛盾 男 父亲突然离开人世，自己天天悲痛，走不出困境\n人际关系 男 如何提高情商，不太会和异性聊天。。来个砖家\n其它 女 我好想死啊，我想死，那样就解脱了，就自由了\n家庭问题和矛盾 女 新手宝妈，婚姻，婆媳，育儿理念，爱胡思乱想\n"
     ]
    }
   ],
   "source": [
    "with open('../datasets/EFA_Dataset_v20200314_latest.txt', 'r', encoding='utf8') as rf:\n",
    "    vocab = []\n",
    "    while True:\n",
    "        lines = list(islice(rf, 64))\n",
    "        if not lines: break\n",
    "        for line in lines:\n",
    "            js = json.loads(line)\n",
    "            title = js['title']\n",
    "            label = severities[js['label']['s1']]\n",
    "            print(label, title)\n",
    "        break\n"
   ]
  },
  {
   "cell_type": "code",
   "execution_count": 11,
   "metadata": {},
   "outputs": [],
   "source": [
    "url = 'https://www.guoyi360.com/64gua{:02d}/gs/'\n",
    "\n",
    "urls = []\n",
    "for i in range(1, 65):\n",
    "    resp = requests.get(url.format(i))\n",
    "    html = parsel.Selector(resp.text)\n",
    "    hrefs = html.xpath(\"//div[@class='list-title']/h4/a/@href\").getall()\n",
    "    urls.append((i, ['https://www.guoyi360.com' + href for href in hrefs]))"
   ]
  },
  {
   "cell_type": "code",
   "execution_count": 17,
   "metadata": {},
   "outputs": [],
   "source": [
    "urls = urls[2:]\n"
   ]
  },
  {
   "cell_type": "code",
   "execution_count": 51,
   "metadata": {},
   "outputs": [],
   "source": [
    "with open('data/chings/IChing_newest.txt', 'r', encoding='utf8') as rf:\n",
    "    hexagrams = [line.split('|')[1] for line in rf.readlines()]"
   ]
  },
  {
   "cell_type": "code",
   "execution_count": 53,
   "metadata": {},
   "outputs": [],
   "source": [
    "def fetch_story(idx, urls):\n",
    "    stories = []\n",
    "    for url in urls:\n",
    "        resp = requests.get(url)\n",
    "        resp.encoding = 'utf8'\n",
    "        html = parsel.Selector(resp.text)\n",
    "        title = html.xpath(\"//div[@id='wenzhang-title']/h1/text()\").get()\n",
    "        plist = html.xpath(\"//div[@class='content']/p[position() > 2]/text()\").getall()\n",
    "        title = title.split('：')[0]\n",
    "        fields = title.split('，')\n",
    "        title = hexagrams[idx - 1] + ' ' + fields[1] + ' ' + fields[0]\n",
    "        plist.insert(0, title)\n",
    "        stories.append('\\n'.join([p.strip() for p in plist[:-1]]))\n",
    "    with open('data/384story/{}.txt'.format(idx), 'w',encoding='utf8') as wf:\n",
    "        wf.writelines('\\n\\n'.join(stories))\n",
    "\n",
    "with ThreadPoolExecutor(max_workers=16) as executor:\n",
    "    results = executor.map(lambda p: fetch_story(*p), urls)\n",
    "    stories = [result for result in results]"
   ]
  },
  {
   "cell_type": "code",
   "execution_count": 65,
   "metadata": {},
   "outputs": [],
   "source": [
    "with open('data/384_changes_story.txt', 'a+', encoding='utf8') as wf:\n",
    "    for i in range(3, 65):\n",
    "        hexagram_name = hexagrams[i - 1]\n",
    "        with open('datasets/384story/{}.txt'.format(i), 'r', encoding='utf8') as rf:\n",
    "            lines = []\n",
    "            for line in rf.readlines():\n",
    "                if '】' in line:\n",
    "                    line = line.split('】')[-1]\n",
    "                lines.append(line)\n",
    "            \n",
    "            wf.writelines(''.join(lines) + '\\n\\n')"
   ]
  },
  {
   "cell_type": "code",
   "execution_count": 78,
   "metadata": {},
   "outputs": [],
   "source": [
    "with open('data/384_changes_story.txt', 'r', encoding='utf8') as rf:\n",
    "    lines = rf.readlines()\n",
    "    num = len(lines)\n",
    "    stories_tmp = []\n",
    "    idx = 0\n",
    "    while idx + 2 < num:\n",
    "        if lines[idx].strip() == '' and lines[idx + 2].strip() == '':\n",
    "            idx += 2\n",
    "            stories_tmp.append('\\n')\n",
    "            continue\n",
    "        stories_tmp.append(lines[idx])\n",
    "        idx += 1\n"
   ]
  },
  {
   "cell_type": "code",
   "execution_count": 80,
   "metadata": {},
   "outputs": [],
   "source": [
    "with open('data/tmp.txt', 'w',encoding='utf8') as wf:\n",
    "    wf.writelines(''.join(stories_tmp).replace('\\n\\n', '\\n'))"
   ]
  },
  {
   "cell_type": "code",
   "execution_count": null,
   "metadata": {},
   "outputs": [],
   "source": []
  }
 ],
 "metadata": {
  "kernelspec": {
   "display_name": "Python 3",
   "language": "python",
   "name": "python3"
  },
  "language_info": {
   "codemirror_mode": {
    "name": "ipython",
    "version": 3
   },
   "file_extension": ".py",
   "mimetype": "text/x-python",
   "name": "python",
   "nbconvert_exporter": "python",
   "pygments_lexer": "ipython3",
   "version": "3.8.5-final"
  }
 },
 "nbformat": 4,
 "nbformat_minor": 4
}