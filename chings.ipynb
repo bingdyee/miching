{
 "metadata": {
  "language_info": {
   "codemirror_mode": {
    "name": "ipython",
    "version": 3
   },
   "file_extension": ".py",
   "mimetype": "text/x-python",
   "name": "python",
   "nbconvert_exporter": "python",
   "pygments_lexer": "ipython3",
   "version": "3.8.5-final"
  },
  "orig_nbformat": 2,
  "kernelspec": {
   "name": "python3",
   "display_name": "Python 3",
   "language": "python"
  }
 },
 "nbformat": 4,
 "nbformat_minor": 2,
 "cells": [
  {
   "cell_type": "code",
   "execution_count": 1,
   "metadata": {},
   "outputs": [],
   "source": [
    "import os\n",
    "import json\n"
   ]
  },
  {
   "cell_type": "code",
   "execution_count": 21,
   "metadata": {},
   "outputs": [],
   "source": [
    "rdir = 'E:/java/other/miching/docs/chings'\n",
    "def read(fn):\n",
    "    with open(os.path.join(rdir, fn), 'r', encoding='utf8') as wf:\n",
    "        return list(wf.readlines())\n"
   ]
  },
  {
   "cell_type": "code",
   "execution_count": 31,
   "metadata": {
    "tags": []
   },
   "outputs": [],
   "source": [
    "original_text = []\n",
    "h = [\n",
    "        0X3F, 0X00, 0X22, 0X11, 0X3A, 0X17, 0X10, 0X02,\n",
    "        0X3B, 0X37, 0X38, 0X07, 0X2F, 0X3D, 0X08, 0X04,\n",
    "        0X26, 0X19, 0X30, 0X03, 0X25, 0X29, 0X01, 0X20,\n",
    "        0X27, 0X39, 0X21, 0X1E, 0X12, 0X2D, 0X0E, 0X1C,\n",
    "        0X0F, 0X3C, 0X05, 0X28, 0X2B, 0X35, 0X0A, 0X14,\n",
    "        0X31, 0X23, 0X3E, 0X1F, 0X06, 0X18, 0X16, 0X1A,\n",
    "        0X2E, 0X1D, 0X24, 0X09, 0X0B, 0X34, 0X2C, 0X0D,\n",
    "        0X1B, 0X36, 0X13, 0X32, 0X33, 0X0C, 0X2A, 0X15\n",
    "]\n",
    "for i in range(0, len(ching_all), 2):\n",
    "    original, translation = ching_all[i].strip(), ching_all[i + 1].strip()\n",
    "    orgs = original.split('|')\n",
    "    tras = translation.split('|')\n",
    "    sequence = i // 2 + 1\n",
    "    data = {\n",
    "        'sequence': sequence,\n",
    "        'name': orgs[1],\n",
    "        'fullName': tras[1],\n",
    "        'judgement': orgs[2],\n",
    "        'changes': h[sequence - 1]\n",
    "    }\n",
    "    if i < 4:\n",
    "        data['judgementCommentary'] = orgs[10]\n",
    "        data['lines'] = [\n",
    "            orgs[3], orgs[4], orgs[5], \n",
    "            orgs[6], orgs[7], orgs[8],\n",
    "            orgs[9]\n",
    "        ]\n",
    "        data['images'] = [\n",
    "            orgs[11], orgs[12], orgs[13], \n",
    "            orgs[14], orgs[15], orgs[16], orgs[17], orgs[18]\n",
    "       ]\n",
    "    else:\n",
    "         data['judgementCommentary'] = orgs[9]\n",
    "         data['lines'] = [\n",
    "            orgs[3], orgs[4], orgs[5], \n",
    "            orgs[6], orgs[7], orgs[8],\n",
    "         ]\n",
    "         data['images'] = [\n",
    "            orgs[10], orgs[11], orgs[12], \n",
    "            orgs[13], orgs[14], orgs[15], orgs[16]\n",
    "         ]\n",
    "    original_text.append(data)"
   ]
  },
  {
   "cell_type": "code",
   "execution_count": 29,
   "metadata": {},
   "outputs": [
    {
     "output_type": "stream",
     "name": "stdout",
     "text": [
      "['卦三', '屯', '元亨，利贞。勿用有攸往。利建侯。', '初九：磐桓，利居贞。利建侯。', '六二：屯如邅如，乘马班如。匪寇，婚媾。女子贞不字，十年乃字。', '六三：即鹿无虞，惟入于林中，君子几不如舍，往吝。', '六四：乘马班如，求婚媾。往吉，无不利。', '九五：屯其膏，小，贞吉；大，贞凶。', '上六：乘马班如，泣血涟如。', '《彖》曰：屯，刚柔始交而难生。动乎险中，大亨贞。雷雨之动满盈，天造草昧。宜寻建侯而不宁。', '《象》曰：云雷，屯。君子以经纶。', '虽磐桓，志行正也。以贵下贱，大得民也。', '六二之难，乘刚也。十年乃字，反常也。', '即鹿无虞，以従禽也。君子舍之，往吝穷也。', '求而往，明也。', '屯其膏，施未光也。', '泣血涟如，何可长也。\\n']\n卦三|水雷屯|屯卦所象征的是万物初生时候的状态，这种状态对选择生长的道路非常有帮助。这个时候不要急于得到最后结果，而是要多加强自身的力量。|初九爻：个人还没到出头的日子，还需经历诸多波折，所以需要坚守正确的方向，加强自身的力量。|六二爻：此时的状态仍然是徘徊难进，即便骑上快马也只能原地转圈。不是要当强盗，而是要求婚，但那女孩子要等十年再嫁。|六三爻：这时候追逐野鹿却没有掌管山林的人提供帮助，稍有迟缓就会让野鹿逃入深不可知的树林。与其穷追不如舍弃，这是明智君子的做法，穷追下去只会徒增心中的悔意。|六四爻：骑在马上却又心生犹豫，想去求婚却又犹豫不前，但这次将会吉祥顺利。|九五爻：要善于努力打通艰难的局面，如果任艰难积累，就会出现难以克服的困局。|上六爻：骑在马上徘徊不前，哭起来却又血泪如雨。|《彖辞》说：屯卦所象征的，是刚健与柔顺开始交合，并艰难地进行着新生命的创造。即便是前进中危险时刻伴随左右，也是非常容易达到目的的正途。就好像雷雨交加的天气里大水涌动的状态，又好比天地产生之初原始混沌的状态，所以这个时候应该加强自身的力量，而不是尽享太平的时光。|《象辞》说：云和雷的卦象组成了屯卦，让君子能够从雨水和雷电的威严中，感受到生命的艰难，并从中得到治理国家的体会。|初九爻：虽然前进途中困难重重，但只要是志向和行动没有错误，地位尊贵而能谦和待下的君子，是可以大得民心的。|六二爻：六二爻中显示的艰难，是因为柔比刚更强大。“要再等十年才能出嫁”是一种很反常的情况。|六三爻：追逐野鹿的时候却没有掌管山林的人提供帮助，君子只能向着猎物逃跑的方向瞎跑。如果君子不能选择放弃，那么一味地追下去将会徒生悔意，一无所获。|六四爻：为求婚而去，将是一种非常明智的举动。|九五爻：把事业初创时的艰难归结为九五所布施的恩德还没有惠及更多的人。|上六爻：哭得血泪如雨的情况，只是暂时的，不会长久持续的！\n\n"
     ]
    }
   ],
   "source": [
    "ching_all = read('IChing_all.txt')\n",
    "print(ching_all[4].split('|'))\n",
    "print(ching_all[5])"
   ]
  },
  {
   "cell_type": "code",
   "execution_count": 32,
   "metadata": {},
   "outputs": [],
   "source": [
    "with open('E:/iching_original.txt', 'w', encoding='utf8') as wf:\n",
    "    json.dump(original_text, wf)"
   ]
  },
  {
   "cell_type": "code",
   "execution_count": 27,
   "metadata": {},
   "outputs": [],
   "source": [
    "original_translation = []\n",
    "\n",
    "\n",
    "\n",
    "for i in range(0, len(ching_all), 2):\n",
    "    original, translation = ching_all[i].strip(), ching_all[i + 1].strip()\n",
    "    orgs = original.split('|')\n",
    "    tras = translation.split('|')\n",
    "    sequence = i // 2 + 1\n",
    "    data = {\n",
    "        'sequence': sequence,\n",
    "        'name': orgs[1],\n",
    "        'fullName': tras[1],\n",
    "        'judgement': tras[2],\n",
    "        'changes': ''\n",
    "    }\n",
    "    if i < 4:\n",
    "        data['judgementCommentary'] = tras[10]\n",
    "        data['lines'] = [\n",
    "            tras[3], tras[4], tras[5], \n",
    "            tras[6], tras[7], tras[8],\n",
    "            tras[9]\n",
    "        ]\n",
    "        data['images'] = [\n",
    "            tras[11], tras[12], tras[13], \n",
    "            tras[14], tras[15], tras[16], tras[17], tras[18]\n",
    "       ]\n",
    "    else:\n",
    "         data['judgementCommentary'] = tras[9]\n",
    "         data['lines'] = [\n",
    "            tras[3], tras[4], tras[5], \n",
    "            tras[6], tras[7], tras[8],\n",
    "         ]\n",
    "         data['images'] = [\n",
    "            tras[10], tras[11], tras[12], \n",
    "            tras[13], tras[14], tras[15], tras[16]\n",
    "         ]\n",
    "    original_translation.append(data)\n",
    "\n",
    "with open('E:/original_translation.txt', 'w', encoding='utf8') as wf:\n",
    "    json.dump(original_translation, wf)"
   ]
  },
  {
   "cell_type": "code",
   "execution_count": 15,
   "metadata": {},
   "outputs": [],
   "source": [
    "changes = read('iching_384_changes.txt')\n",
    "changes = [line.strip() for line in changes]\n",
    "original_meaning = []\n",
    "for i in range(0, len(changes), 8):\n",
    "    heads = changes[i].split(' ')\n",
    "    lines = changes[i+1:i+7]\n",
    "    data = {\n",
    "        'sequence': heads[0],\n",
    "        'name': heads[1],\n",
    "        'lines': heads[2],\n",
    "        'judgement': heads[3],\n",
    "        'meaning': heads[4],\n",
    "        'lines': lines \n",
    "    }\n",
    "    original_meaning.append(data)\n",
    "\n",
    "with open('E:/original_meaning.txt', 'w', encoding='utf8') as wf:\n",
    "    json.dump(original_meaning, wf)"
   ]
  },
  {
   "cell_type": "code",
   "execution_count": null,
   "metadata": {},
   "outputs": [],
   "source": [
    "\"\"\"\n",
    "hex_text\n",
    "id, name, lines, original, meaning, translation, ching_id\n",
    "\n",
    "ching\n",
    "id, name, author, abstract, \n",
    "\"\"\"\n"
   ]
  }
 ]
}